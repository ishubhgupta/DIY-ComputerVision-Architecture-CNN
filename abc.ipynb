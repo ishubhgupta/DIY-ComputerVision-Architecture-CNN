{
 "cells": [
  {
   "cell_type": "code",
   "execution_count": 1,
   "metadata": {},
   "outputs": [
    {
     "name": "stdout",
     "output_type": "stream",
     "text": [
      "torch==2.5.0\n",
      "torchvision==0.20.0\n",
      "pillow==10.0.0\n",
      "psycopg2==2.9.9\n",
      "streamlit==1.40.0\n",
      "couchdb==1.2\n",
      "numpy==1.24.3\n",
      "pandas==1.5.3\n",
      "matplotlib==3.6.0\n"
     ]
    }
   ],
   "source": [
    "import pkg_resources\n",
    "\n",
    "# List of packages to check\n",
    "packages = [\n",
    "    'torch',\n",
    "    'torchvision',\n",
    "    'pillow',\n",
    "    'psycopg2',\n",
    "    'streamlit',\n",
    "    'couchdb',\n",
    "    'numpy',\n",
    "    'pandas',\n",
    "    'matplotlib'\n",
    "]\n",
    "\n",
    "# Iterate over the packages and print their installed version\n",
    "for package in packages:\n",
    "    try:\n",
    "        version = pkg_resources.get_distribution(package).version\n",
    "        print(f'{package}=={version}')\n",
    "    except pkg_resources.DistributionNotFound:\n",
    "        print(f'{package} is not installed.')\n"
   ]
  }
 ],
 "metadata": {
  "kernelspec": {
   "display_name": "Python 3",
   "language": "python",
   "name": "python3"
  },
  "language_info": {
   "codemirror_mode": {
    "name": "ipython",
    "version": 3
   },
   "file_extension": ".py",
   "mimetype": "text/x-python",
   "name": "python",
   "nbconvert_exporter": "python",
   "pygments_lexer": "ipython3",
   "version": "3.10.11"
  }
 },
 "nbformat": 4,
 "nbformat_minor": 2
}
